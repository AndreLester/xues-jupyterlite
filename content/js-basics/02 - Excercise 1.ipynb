{
  "metadata": {
    "kernelspec": {
      "name": "javascript",
      "display_name": "JavaScript (Web Worker)",
      "language": "javascript"
    },
    "language_info": {
      "codemirror_mode": {
        "name": "javascript"
      },
      "file_extension": ".js",
      "mimetype": "text/javascript",
      "name": "javascript",
      "nbconvert_exporter": "javascript",
      "pygments_lexer": "javascript",
      "version": "es2017"
    }
  },
  "nbformat_minor": 5,
  "nbformat": 4,
  "cells": [
    {
      "id": "9011d4eb-d549-433b-b0e6-e12dc63fa11c",
      "cell_type": "markdown",
      "source": "# **Excercise 1**\nFunction that return the maximum of 2 numbers",
      "metadata": {}
    },
    {
      "id": "0d5f76f0-c4ef-4fbd-8b4a-7810e1c3a74b",
      "cell_type": "code",
      "source": "function max_of_2(x, y) {\n    if (x > y)\n        return x;\n    return y;\n}",
      "metadata": {
        "trusted": true
      },
      "outputs": [
        {
          "execution_count": 1,
          "output_type": "execute_result",
          "data": {},
          "metadata": {}
        }
      ],
      "execution_count": 1
    },
    {
      "id": "f1e8abe4-c4b9-446e-9f29-2aad4519a6cb",
      "cell_type": "code",
      "source": "console.log(max_of_2(23, 9))",
      "metadata": {
        "trusted": true
      },
      "outputs": [
        {
          "name": "stdout",
          "output_type": "stream",
          "text": "23\n"
        },
        {
          "execution_count": 2,
          "output_type": "execute_result",
          "data": {},
          "metadata": {}
        }
      ],
      "execution_count": 2
    },
    {
      "id": "b2248ef7-c674-4212-8cf2-7cd2adc83764",
      "cell_type": "code",
      "source": "function max(a, b) {\n    return (a > b) ? a : b;\n}",
      "metadata": {
        "trusted": true
      },
      "outputs": [
        {
          "execution_count": 3,
          "output_type": "execute_result",
          "data": {},
          "metadata": {}
        }
      ],
      "execution_count": 3
    },
    {
      "id": "93f74d33-65d6-4c4b-ad34-df8e2c8cf59c",
      "cell_type": "code",
      "source": "console.log(max(5, 10))",
      "metadata": {
        "trusted": true
      },
      "outputs": [
        {
          "name": "stdout",
          "output_type": "stream",
          "text": "10\n"
        },
        {
          "execution_count": 4,
          "output_type": "execute_result",
          "data": {},
          "metadata": {}
        }
      ],
      "execution_count": 4
    },
    {
      "id": "705c864b-c394-4fb4-a4bc-af5e2a6751e1",
      "cell_type": "markdown",
      "source": "# **Excercise 2**\nFunction that return a boolean whether landscape or not",
      "metadata": {}
    },
    {
      "id": "df4282d4-1622-4d97-bfba-8277dae2532b",
      "cell_type": "code",
      "source": "function isLandscape(width, height){\n    return (width > height);\n}\n\nconsole.log(isLandscape(40, 15))",
      "metadata": {
        "trusted": true
      },
      "outputs": [
        {
          "name": "stdout",
          "output_type": "stream",
          "text": "true\n"
        },
        {
          "execution_count": 5,
          "output_type": "execute_result",
          "data": {},
          "metadata": {}
        }
      ],
      "execution_count": 5
    },
    {
      "id": "077f4be3-af59-40e3-96ff-6137ad72238a",
      "cell_type": "markdown",
      "source": "# **Excercise 3**\nFizzBuzz",
      "metadata": {}
    },
    {
      "id": "c767b32f-4afe-4c55-bd35-4e54ab5e7adc",
      "cell_type": "code",
      "source": "console.log(typeof 1)\nconsole.log(typeof '1')",
      "metadata": {
        "trusted": true
      },
      "outputs": [
        {
          "name": "stdout",
          "output_type": "stream",
          "text": "number\nstring\n"
        },
        {
          "execution_count": 6,
          "output_type": "execute_result",
          "data": {},
          "metadata": {}
        }
      ],
      "execution_count": 6
    },
    {
      "id": "a3f2dc15-6416-47aa-b347-146bf0d85a52",
      "cell_type": "code",
      "source": "function fizzBuzz(input) {\n    if (typeof input !== 'number')\n        return NaN;\n    if ((input % 3 === 0) && (input % 5 === 0))\n        return 'FizzBuzz';\n    if (input % 3 === 0)\n        return 'Fizz';\n    if (input % 5 === 0)\n        return 'Buzz';\n    return input;\n}\n\nconsole.log(fizzBuzz(6))\nconsole.log(fizzBuzz(10))\nconsole.log(fizzBuzz(30))\nconsole.log(fizzBuzz(true))\nconsole.log(fizzBuzz('1'))\nconsole.log(fizzBuzz(2))",
      "metadata": {
        "trusted": true
      },
      "outputs": [
        {
          "name": "stdout",
          "output_type": "stream",
          "text": "Fizz\nBuzz\nFizzBuzz\nNaN\nNaN\n2\n"
        },
        {
          "execution_count": 7,
          "output_type": "execute_result",
          "data": {},
          "metadata": {}
        }
      ],
      "execution_count": 7
    },
    {
      "id": "0ac0d807-f78f-4fd3-a958-cbb4e41425d6",
      "cell_type": "markdown",
      "source": "# **Excercise 4**\nCheck Speed",
      "metadata": {}
    },
    {
      "id": "6d922f84-7511-4894-8c99-b447ea24e024",
      "cell_type": "code",
      "source": "// Speed limit = 70\n\nconsole.log(checkSpeed(129))\nconsole.log(checkSpeed(131))\n\nfunction checkSpeed(speed) {\n    const speedLimit = 70;\n    const points = Math.floor((speed-speedLimit)/5);\n    if (points < 1) return 'Ok';\n    if (points < 12) return points;\n    return 'License suspended';\n}",
      "metadata": {
        "trusted": true
      },
      "outputs": [
        {
          "name": "stdout",
          "output_type": "stream",
          "text": "11\nLicense suspended\n"
        },
        {
          "execution_count": 8,
          "output_type": "execute_result",
          "data": {},
          "metadata": {}
        }
      ],
      "execution_count": 8
    },
    {
      "id": "7aa9a3e4-10a7-4fa6-835e-4f7e7a32793e",
      "cell_type": "markdown",
      "source": "# **Excercise 5**\nEven and odd numbers",
      "metadata": {}
    },
    {
      "id": "0cfacd0f-2b49-4e60-a436-fd072ddc8fdd",
      "cell_type": "code",
      "source": "showNumbers(10)\n\nfunction showNumbers(limit) {\n    for (let i = 0; i <= limit; i++) {\n        let oddEeven;\n        if (i % 2 === 0) oddEeven = 'EVEN';\n        else oddEeven = 'ODD';\n        console.log(i, oddEeven)\n    }\n}",
      "metadata": {
        "trusted": true
      },
      "outputs": [
        {
          "name": "stdout",
          "output_type": "stream",
          "text": "0 EVEN\n1 ODD\n2 EVEN\n3 ODD\n4 EVEN\n5 ODD\n6 EVEN\n7 ODD\n8 EVEN\n9 ODD\n10 EVEN\n"
        },
        {
          "execution_count": 9,
          "output_type": "execute_result",
          "data": {},
          "metadata": {}
        }
      ],
      "execution_count": 9
    },
    {
      "id": "15897f59-50cc-4921-a886-79bbea5fc1de",
      "cell_type": "markdown",
      "source": "# **Excercise 6**\nCount truthy",
      "metadata": {}
    },
    {
      "id": "d1c0b417-c8f1-4c90-ac4d-fd0537cedb22",
      "cell_type": "code",
      "source": "const array = [0, null, 2, 3];\nconsole.log(countTruthy(array));\n\nfunction countTruthy(array) {\n    let count = 0;\n    for (let value of array) {\n        if (value) count++;\n    }\n    return count;\n}",
      "metadata": {
        "trusted": true
      },
      "outputs": [
        {
          "name": "stdout",
          "output_type": "stream",
          "text": "2\n"
        },
        {
          "execution_count": 24,
          "output_type": "execute_result",
          "data": {},
          "metadata": {}
        }
      ],
      "execution_count": 31
    },
    {
      "id": "0e50c6c4-69ad-405a-bc71-a3d90dde348d",
      "cell_type": "code",
      "source": "",
      "metadata": {
        "trusted": true
      },
      "outputs": [],
      "execution_count": null
    }
  ]
}