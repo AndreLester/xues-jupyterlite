{
  "metadata": {
    "kernelspec": {
      "name": "javascript",
      "display_name": "JavaScript (Web Worker)",
      "language": "javascript"
    },
    "language_info": {
      "codemirror_mode": {
        "name": "javascript"
      },
      "file_extension": ".js",
      "mimetype": "text/javascript",
      "name": "javascript",
      "nbconvert_exporter": "javascript",
      "pygments_lexer": "javascript",
      "version": "es2017"
    }
  },
  "nbformat_minor": 5,
  "nbformat": 4,
  "cells": [
    {
      "id": "1724f3b6-e55d-4a87-af63-2f746877e75b",
      "cell_type": "code",
      "source": "// Logical OR (||)\n// Returns TRUE if one of the operands is TRUE\n\nvar highIncome = false;\nvar gooCreditScore = false;\nvar eligibleForLoan = highIncome || gooCreditScore\n\n// NOT (!)\nvar applicationRefused = !eligibleForLoan\n\nconsole.log(eligibleForLoan)",
      "metadata": {
        "trusted": true
      },
      "outputs": [
        {
          "name": "stdout",
          "output_type": "stream",
          "text": "false\n"
        },
        {
          "execution_count": 8,
          "output_type": "execute_result",
          "data": {},
          "metadata": {}
        }
      ],
      "execution_count": 14
    },
    {
      "id": "dc98434e-1bcc-43ef-b580-6f1327979586",
      "cell_type": "code",
      "source": "console.log(typeof eligibleForLoan)\nconsole.log(typeof highIncome)",
      "metadata": {
        "trusted": true
      },
      "outputs": [
        {
          "name": "stdout",
          "output_type": "stream",
          "text": "boolean\nboolean\n"
        },
        {
          "execution_count": 9,
          "output_type": "execute_result",
          "data": {},
          "metadata": {}
        }
      ],
      "execution_count": 15
    },
    {
      "id": "ba843c0f-4d50-4a05-a542-1c97584027bd",
      "cell_type": "code",
      "source": "var x = 5;\nvar y = 8;\n\nconsole.log(x + y)",
      "metadata": {
        "trusted": true
      },
      "outputs": [
        {
          "name": "stdout",
          "output_type": "stream",
          "text": "13\n"
        },
        {
          "execution_count": 11,
          "output_type": "execute_result",
          "data": {},
          "metadata": {}
        }
      ],
      "execution_count": 18
    },
    {
      "id": "5c4fdeb6-f984-42d4-a500-b1714426199e",
      "cell_type": "code",
      "source": "console.log(x)\n// console.log(x + y)",
      "metadata": {
        "trusted": true
      },
      "outputs": [
        {
          "name": "stdout",
          "output_type": "stream",
          "text": "5\n"
        },
        {
          "execution_count": 12,
          "output_type": "execute_result",
          "data": {},
          "metadata": {}
        }
      ],
      "execution_count": 19
    },
    {
      "id": "0d2b94bb-db1b-49de-95a0-b365eac6ba45",
      "cell_type": "markdown",
      "source": "## ***if...else***",
      "metadata": {}
    },
    {
      "id": "1549d675-ac90-4c46-865e-4b65b3a081f3",
      "cell_type": "code",
      "source": "let hour = 20;\n\nif (hour >= 6 && hour < 12)\n    console.log('Good morning');\nelse if (hour >= 12 && hour < 18)\n    console.log('Good afternoon');\nelse\n    console.log('Good evening');",
      "metadata": {
        "trusted": true
      },
      "outputs": [
        {
          "name": "stdout",
          "output_type": "stream",
          "text": "Good evening\n"
        },
        {
          "execution_count": 16,
          "output_type": "execute_result",
          "data": {},
          "metadata": {}
        }
      ],
      "execution_count": 23
    },
    {
      "id": "c973019a-bc84-43ad-92de-6900f2dcc16b",
      "cell_type": "markdown",
      "source": "## ***for* loop**",
      "metadata": {}
    },
    {
      "id": "76f37419-99df-465e-b62f-7adb23fbe3b5",
      "cell_type": "code",
      "source": "for (let i = 0; i < 5; i++)\n    console.log(i+1, 'Hello World')",
      "metadata": {
        "trusted": true
      },
      "outputs": [
        {
          "name": "stdout",
          "output_type": "stream",
          "text": "1 Hello World\n2 Hello World\n3 Hello World\n4 Hello World\n5 Hello World\n"
        },
        {
          "execution_count": 20,
          "output_type": "execute_result",
          "data": {},
          "metadata": {}
        }
      ],
      "execution_count": 27
    },
    {
      "id": "7478f567-a4cd-4bfc-ac50-0e82ef468a18",
      "cell_type": "markdown",
      "source": "## *with brackets*",
      "metadata": {}
    },
    {
      "id": "5231c7f2-87a8-484a-b90d-4288793d7ac3",
      "cell_type": "code",
      "source": "for (let i = 0; i < 5; i++) {\n    console.log(i+1, 'Hello World')\n}",
      "metadata": {
        "trusted": true
      },
      "outputs": [
        {
          "name": "stdout",
          "output_type": "stream",
          "text": "1 Hello World\n2 Hello World\n3 Hello World\n4 Hello World\n5 Hello World\n"
        },
        {
          "execution_count": 21,
          "output_type": "execute_result",
          "data": {},
          "metadata": {}
        }
      ],
      "execution_count": 29
    },
    {
      "id": "aaf8e4e6-0691-4bf8-a771-43d9eeaba48f",
      "cell_type": "code",
      "source": "for (let i = 1; i <= 5; i++) {\n    if (i % 2 !== 0)\n        console.log(i);\n}",
      "metadata": {
        "trusted": true
      },
      "outputs": [
        {
          "name": "stdout",
          "output_type": "stream",
          "text": "1\n3\n5\n"
        },
        {
          "execution_count": 26,
          "output_type": "execute_result",
          "data": {},
          "metadata": {}
        }
      ],
      "execution_count": 35
    },
    {
      "id": "afa8508e-fe60-4d81-adc3-e9ee77dae232",
      "cell_type": "markdown",
      "source": "## ***while* loop**",
      "metadata": {}
    },
    {
      "id": "6e3d38e6-ba33-4ab5-951c-e23300c8609a",
      "cell_type": "code",
      "source": "let i = 0;\nwhile (i <= 5) {\n    if (i % 2 !== 0)\n        console.log(i);\n    i++;\n}",
      "metadata": {
        "trusted": true
      },
      "outputs": [
        {
          "name": "stdout",
          "output_type": "stream",
          "text": "1\n3\n5\n"
        },
        {
          "execution_count": 29,
          "output_type": "execute_result",
          "data": {
            "text/plain": "5"
          },
          "metadata": {}
        }
      ],
      "execution_count": 38
    },
    {
      "id": "50ab2584-e345-4a59-9d82-0133234e16bb",
      "cell_type": "markdown",
      "source": "## ***do...while***",
      "metadata": {}
    },
    {
      "id": "438baed1-7386-40e3-91f5-6d0d7693273f",
      "cell_type": "code",
      "source": "let i = 0;\ndo {\n    if (i % 2 !== 0)\n        console.log(i);\n    i++;\n} while (i <= 5);",
      "metadata": {
        "trusted": true
      },
      "outputs": [
        {
          "name": "stdout",
          "output_type": "stream",
          "text": "1\n3\n5\n"
        },
        {
          "execution_count": 33,
          "output_type": "execute_result",
          "data": {
            "text/plain": "5"
          },
          "metadata": {}
        }
      ],
      "execution_count": 42
    },
    {
      "id": "9738d82a-e135-4df5-ba0e-94912a4e8fbb",
      "cell_type": "code",
      "source": "let i = 9;\ndo {\n    if (i % 2 !== 0)\n        console.log(i);\n    i++;\n} while (i <= 5);",
      "metadata": {
        "trusted": true
      },
      "outputs": [
        {
          "name": "stdout",
          "output_type": "stream",
          "text": "9\n"
        },
        {
          "execution_count": 34,
          "output_type": "execute_result",
          "data": {
            "text/plain": "9"
          },
          "metadata": {}
        }
      ],
      "execution_count": 43
    },
    {
      "id": "c51f879e-0ace-4781-a1c1-afa4afd251f4",
      "cell_type": "markdown",
      "source": "## **Infinite loops**",
      "metadata": {}
    },
    {
      "id": "462f4e84-395b-4923-b96c-df2cbcd0b84e",
      "cell_type": "markdown",
      "source": "Beware!",
      "metadata": {}
    },
    {
      "id": "8ca8136d-3d61-443d-bc6e-eedce4330d21",
      "cell_type": "markdown",
      "source": "## ***for...in***",
      "metadata": {}
    },
    {
      "id": "f8f822b9-b5e0-4c7d-921d-254f89fa4779",
      "cell_type": "code",
      "source": "const person = {\n    name: 'Andre',\n    age: 50\n};\n\nfor (let key in person)\n    console.log(key, person[key])",
      "metadata": {
        "trusted": true
      },
      "outputs": [
        {
          "name": "stdout",
          "output_type": "stream",
          "text": "name Andre\nage 50\n"
        },
        {
          "execution_count": 36,
          "output_type": "execute_result",
          "data": {},
          "metadata": {}
        }
      ],
      "execution_count": 45
    },
    {
      "id": "965442a9-1bbf-4077-98bd-7c773a7b5aee",
      "cell_type": "code",
      "source": "var person = {\n    name: 'Andre',\n    age: 50\n};",
      "metadata": {
        "trusted": true
      },
      "outputs": [
        {
          "execution_count": 39,
          "output_type": "execute_result",
          "data": {},
          "metadata": {}
        }
      ],
      "execution_count": 50
    },
    {
      "id": "8180bff2-c027-4b3c-bfd1-501e64a603a7",
      "cell_type": "code",
      "source": "console.log(typeof person)",
      "metadata": {
        "trusted": true
      },
      "outputs": [
        {
          "name": "stdout",
          "output_type": "stream",
          "text": "object\n"
        },
        {
          "execution_count": 40,
          "output_type": "execute_result",
          "data": {},
          "metadata": {}
        }
      ],
      "execution_count": 51
    },
    {
      "id": "bb321e3c-9011-46fd-a05b-986085ab6858",
      "cell_type": "code",
      "source": "for (let key in person)\n    console.log(key, person[key])",
      "metadata": {
        "trusted": true
      },
      "outputs": [
        {
          "name": "stdout",
          "output_type": "stream",
          "text": "name Andre\nage 50\n"
        },
        {
          "execution_count": 42,
          "output_type": "execute_result",
          "data": {},
          "metadata": {}
        }
      ],
      "execution_count": 53
    },
    {
      "id": "e2c720ce-5746-478b-9504-5093ae1b8cef",
      "cell_type": "code",
      "source": "const colors = ['red', 'green', 'blue', 50]\n\nfor (let index in colors)\n    console.log(index, colors[index])",
      "metadata": {
        "trusted": true
      },
      "outputs": [
        {
          "name": "stdout",
          "output_type": "stream",
          "text": "0 red\n1 green\n2 blue\n3 50\n"
        },
        {
          "execution_count": 43,
          "output_type": "execute_result",
          "data": {},
          "metadata": {}
        }
      ],
      "execution_count": 54
    },
    {
      "id": "162f1187-30ac-47a8-9244-9b22145d2707",
      "cell_type": "markdown",
      "source": "## ***for...of***",
      "metadata": {}
    },
    {
      "id": "a4275ffe-1585-4027-be5c-aa067b0d8d0b",
      "cell_type": "code",
      "source": "const colors = ['red', 'green', 'blue', 50]\n\nfor (let color of colors)\n    console.log(color)",
      "metadata": {
        "trusted": true
      },
      "outputs": [
        {
          "name": "stdout",
          "output_type": "stream",
          "text": "red\ngreen\nblue\n50\n"
        },
        {
          "execution_count": 44,
          "output_type": "execute_result",
          "data": {},
          "metadata": {}
        }
      ],
      "execution_count": 55
    },
    {
      "id": "8b0ab9bc-aefe-468d-addf-7366152e161e",
      "cell_type": "code",
      "source": "",
      "metadata": {
        "trusted": true
      },
      "outputs": [],
      "execution_count": null
    }
  ]
}